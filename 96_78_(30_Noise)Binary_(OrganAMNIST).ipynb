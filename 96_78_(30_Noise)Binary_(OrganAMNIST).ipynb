{
  "cells": [
    {
      "cell_type": "markdown",
      "metadata": {
        "id": "view-in-github",
        "colab_type": "text"
      },
      "source": [
        "<a href=\"https://colab.research.google.com/github/jahid-fahim/B.Sc-Final-Year-Project/blob/main/96_78_(30_Noise)Binary_(OrganAMNIST).ipynb\" target=\"_parent\"><img src=\"https://colab.research.google.com/assets/colab-badge.svg\" alt=\"Open In Colab\"/></a>"
      ]
    },
    {
      "cell_type": "markdown",
      "metadata": {
        "id": "DmGXKsP1mSy7"
      },
      "source": [
        "# Install Libraries"
      ]
    },
    {
      "cell_type": "code",
      "execution_count": null,
      "metadata": {
        "colab": {
          "base_uri": "https://localhost:8080/"
        },
        "id": "bJ5X_peMaD1H",
        "outputId": "608b5886-8780-4d69-b9d2-f15c26450edf"
      },
      "outputs": [
        {
          "output_type": "stream",
          "name": "stdout",
          "text": [
            "Requirement already satisfied: torch in /usr/local/lib/python3.11/dist-packages (2.5.1+cu124)\n",
            "Requirement already satisfied: torchvision in /usr/local/lib/python3.11/dist-packages (0.20.1+cu124)\n",
            "Collecting pennylane\n",
            "  Downloading PennyLane-0.40.0-py3-none-any.whl.metadata (10 kB)\n",
            "Collecting medmnist\n",
            "  Downloading medmnist-3.0.2-py3-none-any.whl.metadata (14 kB)\n",
            "Requirement already satisfied: filelock in /usr/local/lib/python3.11/dist-packages (from torch) (3.17.0)\n",
            "Requirement already satisfied: typing-extensions>=4.8.0 in /usr/local/lib/python3.11/dist-packages (from torch) (4.12.2)\n",
            "Requirement already satisfied: networkx in /usr/local/lib/python3.11/dist-packages (from torch) (3.4.2)\n",
            "Requirement already satisfied: jinja2 in /usr/local/lib/python3.11/dist-packages (from torch) (3.1.5)\n",
            "Requirement already satisfied: fsspec in /usr/local/lib/python3.11/dist-packages (from torch) (2024.10.0)\n",
            "Collecting nvidia-cuda-nvrtc-cu12==12.4.127 (from torch)\n",
            "  Downloading nvidia_cuda_nvrtc_cu12-12.4.127-py3-none-manylinux2014_x86_64.whl.metadata (1.5 kB)\n",
            "Collecting nvidia-cuda-runtime-cu12==12.4.127 (from torch)\n",
            "  Downloading nvidia_cuda_runtime_cu12-12.4.127-py3-none-manylinux2014_x86_64.whl.metadata (1.5 kB)\n",
            "Collecting nvidia-cuda-cupti-cu12==12.4.127 (from torch)\n",
            "  Downloading nvidia_cuda_cupti_cu12-12.4.127-py3-none-manylinux2014_x86_64.whl.metadata (1.6 kB)\n",
            "Collecting nvidia-cudnn-cu12==9.1.0.70 (from torch)\n",
            "  Downloading nvidia_cudnn_cu12-9.1.0.70-py3-none-manylinux2014_x86_64.whl.metadata (1.6 kB)\n",
            "Collecting nvidia-cublas-cu12==12.4.5.8 (from torch)\n",
            "  Downloading nvidia_cublas_cu12-12.4.5.8-py3-none-manylinux2014_x86_64.whl.metadata (1.5 kB)\n",
            "Collecting nvidia-cufft-cu12==11.2.1.3 (from torch)\n",
            "  Downloading nvidia_cufft_cu12-11.2.1.3-py3-none-manylinux2014_x86_64.whl.metadata (1.5 kB)\n",
            "Collecting nvidia-curand-cu12==10.3.5.147 (from torch)\n",
            "  Downloading nvidia_curand_cu12-10.3.5.147-py3-none-manylinux2014_x86_64.whl.metadata (1.5 kB)\n",
            "Collecting nvidia-cusolver-cu12==11.6.1.9 (from torch)\n",
            "  Downloading nvidia_cusolver_cu12-11.6.1.9-py3-none-manylinux2014_x86_64.whl.metadata (1.6 kB)\n",
            "Collecting nvidia-cusparse-cu12==12.3.1.170 (from torch)\n",
            "  Downloading nvidia_cusparse_cu12-12.3.1.170-py3-none-manylinux2014_x86_64.whl.metadata (1.6 kB)\n",
            "Requirement already satisfied: nvidia-nccl-cu12==2.21.5 in /usr/local/lib/python3.11/dist-packages (from torch) (2.21.5)\n",
            "Requirement already satisfied: nvidia-nvtx-cu12==12.4.127 in /usr/local/lib/python3.11/dist-packages (from torch) (12.4.127)\n",
            "Collecting nvidia-nvjitlink-cu12==12.4.127 (from torch)\n",
            "  Downloading nvidia_nvjitlink_cu12-12.4.127-py3-none-manylinux2014_x86_64.whl.metadata (1.5 kB)\n",
            "Requirement already satisfied: triton==3.1.0 in /usr/local/lib/python3.11/dist-packages (from torch) (3.1.0)\n",
            "Requirement already satisfied: sympy==1.13.1 in /usr/local/lib/python3.11/dist-packages (from torch) (1.13.1)\n",
            "Requirement already satisfied: mpmath<1.4,>=1.1.0 in /usr/local/lib/python3.11/dist-packages (from sympy==1.13.1->torch) (1.3.0)\n",
            "Requirement already satisfied: numpy in /usr/local/lib/python3.11/dist-packages (from torchvision) (1.26.4)\n",
            "Requirement already satisfied: pillow!=8.3.*,>=5.3.0 in /usr/local/lib/python3.11/dist-packages (from torchvision) (11.1.0)\n",
            "Requirement already satisfied: scipy in /usr/local/lib/python3.11/dist-packages (from pennylane) (1.13.1)\n",
            "Collecting rustworkx>=0.14.0 (from pennylane)\n",
            "  Downloading rustworkx-0.16.0-cp39-abi3-manylinux_2_17_x86_64.manylinux2014_x86_64.whl.metadata (10 kB)\n",
            "Requirement already satisfied: autograd in /usr/local/lib/python3.11/dist-packages (from pennylane) (1.7.0)\n",
            "Collecting tomlkit (from pennylane)\n",
            "  Downloading tomlkit-0.13.2-py3-none-any.whl.metadata (2.7 kB)\n",
            "Collecting appdirs (from pennylane)\n",
            "  Downloading appdirs-1.4.4-py2.py3-none-any.whl.metadata (9.0 kB)\n",
            "Collecting autoray>=0.6.11 (from pennylane)\n",
            "  Downloading autoray-0.7.0-py3-none-any.whl.metadata (5.8 kB)\n",
            "Requirement already satisfied: cachetools in /usr/local/lib/python3.11/dist-packages (from pennylane) (5.5.1)\n",
            "Collecting pennylane-lightning>=0.40 (from pennylane)\n",
            "  Downloading PennyLane_Lightning-0.40.0-cp311-cp311-manylinux_2_28_x86_64.whl.metadata (27 kB)\n",
            "Requirement already satisfied: requests in /usr/local/lib/python3.11/dist-packages (from pennylane) (2.32.3)\n",
            "Requirement already satisfied: packaging in /usr/local/lib/python3.11/dist-packages (from pennylane) (24.2)\n",
            "Collecting diastatic-malt (from pennylane)\n",
            "  Downloading diastatic_malt-2.15.2-py3-none-any.whl.metadata (2.6 kB)\n",
            "Requirement already satisfied: pandas in /usr/local/lib/python3.11/dist-packages (from medmnist) (2.2.2)\n",
            "Requirement already satisfied: scikit-learn in /usr/local/lib/python3.11/dist-packages (from medmnist) (1.6.1)\n",
            "Requirement already satisfied: scikit-image in /usr/local/lib/python3.11/dist-packages (from medmnist) (0.25.1)\n",
            "Requirement already satisfied: tqdm in /usr/local/lib/python3.11/dist-packages (from medmnist) (4.67.1)\n",
            "Collecting fire (from medmnist)\n",
            "  Downloading fire-0.7.0.tar.gz (87 kB)\n",
            "\u001b[2K     \u001b[90m━━━━━━━━━━━━━━━━━━━━━━━━━━━━━━━━━━━━━━━━\u001b[0m \u001b[32m87.2/87.2 kB\u001b[0m \u001b[31m4.4 MB/s\u001b[0m eta \u001b[36m0:00:00\u001b[0m\n",
            "\u001b[?25h  Preparing metadata (setup.py) ... \u001b[?25l\u001b[?25hdone\n",
            "Collecting scipy-openblas32>=0.3.26 (from pennylane-lightning>=0.40->pennylane)\n",
            "  Downloading scipy_openblas32-0.3.29.0.0-py3-none-manylinux_2_17_x86_64.manylinux2014_x86_64.whl.metadata (56 kB)\n",
            "\u001b[2K     \u001b[90m━━━━━━━━━━━━━━━━━━━━━━━━━━━━━━━━━━━━━━━━\u001b[0m \u001b[32m56.1/56.1 kB\u001b[0m \u001b[31m1.7 MB/s\u001b[0m eta \u001b[36m0:00:00\u001b[0m\n",
            "\u001b[?25hRequirement already satisfied: astunparse in /usr/local/lib/python3.11/dist-packages (from diastatic-malt->pennylane) (1.6.3)\n",
            "Requirement already satisfied: gast in /usr/local/lib/python3.11/dist-packages (from diastatic-malt->pennylane) (0.6.0)\n",
            "Requirement already satisfied: termcolor in /usr/local/lib/python3.11/dist-packages (from diastatic-malt->pennylane) (2.5.0)\n",
            "Requirement already satisfied: MarkupSafe>=2.0 in /usr/local/lib/python3.11/dist-packages (from jinja2->torch) (3.0.2)\n",
            "Requirement already satisfied: python-dateutil>=2.8.2 in /usr/local/lib/python3.11/dist-packages (from pandas->medmnist) (2.8.2)\n",
            "Requirement already satisfied: pytz>=2020.1 in /usr/local/lib/python3.11/dist-packages (from pandas->medmnist) (2025.1)\n",
            "Requirement already satisfied: tzdata>=2022.7 in /usr/local/lib/python3.11/dist-packages (from pandas->medmnist) (2025.1)\n",
            "Requirement already satisfied: charset-normalizer<4,>=2 in /usr/local/lib/python3.11/dist-packages (from requests->pennylane) (3.4.1)\n",
            "Requirement already satisfied: idna<4,>=2.5 in /usr/local/lib/python3.11/dist-packages (from requests->pennylane) (3.10)\n",
            "Requirement already satisfied: urllib3<3,>=1.21.1 in /usr/local/lib/python3.11/dist-packages (from requests->pennylane) (2.3.0)\n",
            "Requirement already satisfied: certifi>=2017.4.17 in /usr/local/lib/python3.11/dist-packages (from requests->pennylane) (2025.1.31)\n",
            "Requirement already satisfied: imageio!=2.35.0,>=2.33 in /usr/local/lib/python3.11/dist-packages (from scikit-image->medmnist) (2.37.0)\n",
            "Requirement already satisfied: tifffile>=2022.8.12 in /usr/local/lib/python3.11/dist-packages (from scikit-image->medmnist) (2025.1.10)\n",
            "Requirement already satisfied: lazy-loader>=0.4 in /usr/local/lib/python3.11/dist-packages (from scikit-image->medmnist) (0.4)\n",
            "Requirement already satisfied: joblib>=1.2.0 in /usr/local/lib/python3.11/dist-packages (from scikit-learn->medmnist) (1.4.2)\n",
            "Requirement already satisfied: threadpoolctl>=3.1.0 in /usr/local/lib/python3.11/dist-packages (from scikit-learn->medmnist) (3.5.0)\n",
            "Requirement already satisfied: six>=1.5 in /usr/local/lib/python3.11/dist-packages (from python-dateutil>=2.8.2->pandas->medmnist) (1.17.0)\n",
            "Requirement already satisfied: wheel<1.0,>=0.23.0 in /usr/local/lib/python3.11/dist-packages (from astunparse->diastatic-malt->pennylane) (0.45.1)\n",
            "Downloading nvidia_cublas_cu12-12.4.5.8-py3-none-manylinux2014_x86_64.whl (363.4 MB)\n",
            "\u001b[2K   \u001b[90m━━━━━━━━━━━━━━━━━━━━━━━━━━━━━━━━━━━━━━━━\u001b[0m \u001b[32m363.4/363.4 MB\u001b[0m \u001b[31m1.9 MB/s\u001b[0m eta \u001b[36m0:00:00\u001b[0m\n",
            "\u001b[?25hDownloading nvidia_cuda_cupti_cu12-12.4.127-py3-none-manylinux2014_x86_64.whl (13.8 MB)\n",
            "\u001b[2K   \u001b[90m━━━━━━━━━━━━━━━━━━━━━━━━━━━━━━━━━━━━━━━━\u001b[0m \u001b[32m13.8/13.8 MB\u001b[0m \u001b[31m22.9 MB/s\u001b[0m eta \u001b[36m0:00:00\u001b[0m\n",
            "\u001b[?25hDownloading nvidia_cuda_nvrtc_cu12-12.4.127-py3-none-manylinux2014_x86_64.whl (24.6 MB)\n",
            "\u001b[2K   \u001b[90m━━━━━━━━━━━━━━━━━━━━━━━━━━━━━━━━━━━━━━━━\u001b[0m \u001b[32m24.6/24.6 MB\u001b[0m \u001b[31m35.3 MB/s\u001b[0m eta \u001b[36m0:00:00\u001b[0m\n",
            "\u001b[?25hDownloading nvidia_cuda_runtime_cu12-12.4.127-py3-none-manylinux2014_x86_64.whl (883 kB)\n",
            "\u001b[2K   \u001b[90m━━━━━━━━━━━━━━━━━━━━━━━━━━━━━━━━━━━━━━━━\u001b[0m \u001b[32m883.7/883.7 kB\u001b[0m \u001b[31m18.4 MB/s\u001b[0m eta \u001b[36m0:00:00\u001b[0m\n",
            "\u001b[?25hDownloading nvidia_cudnn_cu12-9.1.0.70-py3-none-manylinux2014_x86_64.whl (664.8 MB)\n",
            "\u001b[2K   \u001b[90m━━━━━━━━━━━━━━━━━━━━━━━━━━━━━━━━━━━━━━━━\u001b[0m \u001b[32m664.8/664.8 MB\u001b[0m \u001b[31m2.4 MB/s\u001b[0m eta \u001b[36m0:00:00\u001b[0m\n",
            "\u001b[?25hDownloading nvidia_cufft_cu12-11.2.1.3-py3-none-manylinux2014_x86_64.whl (211.5 MB)\n",
            "\u001b[2K   \u001b[90m━━━━━━━━━━━━━━━━━━━━━━━━━━━━━━━━━━━━━━━━\u001b[0m \u001b[32m211.5/211.5 MB\u001b[0m \u001b[31m6.3 MB/s\u001b[0m eta \u001b[36m0:00:00\u001b[0m\n",
            "\u001b[?25hDownloading nvidia_curand_cu12-10.3.5.147-py3-none-manylinux2014_x86_64.whl (56.3 MB)\n",
            "\u001b[2K   \u001b[90m━━━━━━━━━━━━━━━━━━━━━━━━━━━━━━━━━━━━━━━━\u001b[0m \u001b[32m56.3/56.3 MB\u001b[0m \u001b[31m10.7 MB/s\u001b[0m eta \u001b[36m0:00:00\u001b[0m\n",
            "\u001b[?25hDownloading nvidia_cusolver_cu12-11.6.1.9-py3-none-manylinux2014_x86_64.whl (127.9 MB)\n",
            "\u001b[2K   \u001b[90m━━━━━━━━━━━━━━━━━━━━━━━━━━━━━━━━━━━━━━━━\u001b[0m \u001b[32m127.9/127.9 MB\u001b[0m \u001b[31m7.0 MB/s\u001b[0m eta \u001b[36m0:00:00\u001b[0m\n",
            "\u001b[?25hDownloading nvidia_cusparse_cu12-12.3.1.170-py3-none-manylinux2014_x86_64.whl (207.5 MB)\n",
            "\u001b[2K   \u001b[90m━━━━━━━━━━━━━━━━━━━━━━━━━━━━━━━━━━━━━━━━\u001b[0m \u001b[32m207.5/207.5 MB\u001b[0m \u001b[31m6.0 MB/s\u001b[0m eta \u001b[36m0:00:00\u001b[0m\n",
            "\u001b[?25hDownloading nvidia_nvjitlink_cu12-12.4.127-py3-none-manylinux2014_x86_64.whl (21.1 MB)\n",
            "\u001b[2K   \u001b[90m━━━━━━━━━━━━━━━━━━━━━━━━━━━━━━━━━━━━━━━━\u001b[0m \u001b[32m21.1/21.1 MB\u001b[0m \u001b[31m46.3 MB/s\u001b[0m eta \u001b[36m0:00:00\u001b[0m\n",
            "\u001b[?25hDownloading PennyLane-0.40.0-py3-none-any.whl (2.0 MB)\n",
            "\u001b[2K   \u001b[90m━━━━━━━━━━━━━━━━━━━━━━━━━━━━━━━━━━━━━━━━\u001b[0m \u001b[32m2.0/2.0 MB\u001b[0m \u001b[31m49.8 MB/s\u001b[0m eta \u001b[36m0:00:00\u001b[0m\n",
            "\u001b[?25hDownloading medmnist-3.0.2-py3-none-any.whl (25 kB)\n",
            "Downloading autoray-0.7.0-py3-none-any.whl (930 kB)\n",
            "\u001b[2K   \u001b[90m━━━━━━━━━━━━━━━━━━━━━━━━━━━━━━━━━━━━━━━━\u001b[0m \u001b[32m930.0/930.0 kB\u001b[0m \u001b[31m31.5 MB/s\u001b[0m eta \u001b[36m0:00:00\u001b[0m\n",
            "\u001b[?25hDownloading PennyLane_Lightning-0.40.0-cp311-cp311-manylinux_2_28_x86_64.whl (2.4 MB)\n",
            "\u001b[2K   \u001b[90m━━━━━━━━━━━━━━━━━━━━━━━━━━━━━━━━━━━━━━━━\u001b[0m \u001b[32m2.4/2.4 MB\u001b[0m \u001b[31m50.6 MB/s\u001b[0m eta \u001b[36m0:00:00\u001b[0m\n",
            "\u001b[?25hDownloading rustworkx-0.16.0-cp39-abi3-manylinux_2_17_x86_64.manylinux2014_x86_64.whl (2.1 MB)\n",
            "\u001b[2K   \u001b[90m━━━━━━━━━━━━━━━━━━━━━━━━━━━━━━━━━━━━━━━━\u001b[0m \u001b[32m2.1/2.1 MB\u001b[0m \u001b[31m53.0 MB/s\u001b[0m eta \u001b[36m0:00:00\u001b[0m\n",
            "\u001b[?25hDownloading appdirs-1.4.4-py2.py3-none-any.whl (9.6 kB)\n",
            "Downloading diastatic_malt-2.15.2-py3-none-any.whl (167 kB)\n",
            "\u001b[2K   \u001b[90m━━━━━━━━━━━━━━━━━━━━━━━━━━━━━━━━━━━━━━━━\u001b[0m \u001b[32m167.9/167.9 kB\u001b[0m \u001b[31m11.6 MB/s\u001b[0m eta \u001b[36m0:00:00\u001b[0m\n",
            "\u001b[?25hDownloading tomlkit-0.13.2-py3-none-any.whl (37 kB)\n",
            "Downloading scipy_openblas32-0.3.29.0.0-py3-none-manylinux_2_17_x86_64.manylinux2014_x86_64.whl (8.6 MB)\n",
            "\u001b[2K   \u001b[90m━━━━━━━━━━━━━━━━━━━━━━━━━━━━━━━━━━━━━━━━\u001b[0m \u001b[32m8.6/8.6 MB\u001b[0m \u001b[31m68.8 MB/s\u001b[0m eta \u001b[36m0:00:00\u001b[0m\n",
            "\u001b[?25hBuilding wheels for collected packages: fire\n",
            "  Building wheel for fire (setup.py) ... \u001b[?25l\u001b[?25hdone\n",
            "  Created wheel for fire: filename=fire-0.7.0-py3-none-any.whl size=114249 sha256=3874acf565c05bc6b2b1bb594787c3cc86a1f2d47194e9f7c2c310e45c122fde\n",
            "  Stored in directory: /root/.cache/pip/wheels/46/54/24/1624fd5b8674eb1188623f7e8e17cdf7c0f6c24b609dfb8a89\n",
            "Successfully built fire\n",
            "Installing collected packages: appdirs, tomlkit, scipy-openblas32, rustworkx, nvidia-nvjitlink-cu12, nvidia-curand-cu12, nvidia-cufft-cu12, nvidia-cuda-runtime-cu12, nvidia-cuda-nvrtc-cu12, nvidia-cuda-cupti-cu12, nvidia-cublas-cu12, fire, autoray, nvidia-cusparse-cu12, nvidia-cudnn-cu12, diastatic-malt, nvidia-cusolver-cu12, medmnist, pennylane-lightning, pennylane\n",
            "  Attempting uninstall: nvidia-nvjitlink-cu12\n",
            "    Found existing installation: nvidia-nvjitlink-cu12 12.5.82\n",
            "    Uninstalling nvidia-nvjitlink-cu12-12.5.82:\n",
            "      Successfully uninstalled nvidia-nvjitlink-cu12-12.5.82\n",
            "  Attempting uninstall: nvidia-curand-cu12\n",
            "    Found existing installation: nvidia-curand-cu12 10.3.6.82\n",
            "    Uninstalling nvidia-curand-cu12-10.3.6.82:\n",
            "      Successfully uninstalled nvidia-curand-cu12-10.3.6.82\n",
            "  Attempting uninstall: nvidia-cufft-cu12\n",
            "    Found existing installation: nvidia-cufft-cu12 11.2.3.61\n",
            "    Uninstalling nvidia-cufft-cu12-11.2.3.61:\n",
            "      Successfully uninstalled nvidia-cufft-cu12-11.2.3.61\n",
            "  Attempting uninstall: nvidia-cuda-runtime-cu12\n",
            "    Found existing installation: nvidia-cuda-runtime-cu12 12.5.82\n",
            "    Uninstalling nvidia-cuda-runtime-cu12-12.5.82:\n",
            "      Successfully uninstalled nvidia-cuda-runtime-cu12-12.5.82\n",
            "  Attempting uninstall: nvidia-cuda-nvrtc-cu12\n",
            "    Found existing installation: nvidia-cuda-nvrtc-cu12 12.5.82\n",
            "    Uninstalling nvidia-cuda-nvrtc-cu12-12.5.82:\n",
            "      Successfully uninstalled nvidia-cuda-nvrtc-cu12-12.5.82\n",
            "  Attempting uninstall: nvidia-cuda-cupti-cu12\n",
            "    Found existing installation: nvidia-cuda-cupti-cu12 12.5.82\n",
            "    Uninstalling nvidia-cuda-cupti-cu12-12.5.82:\n",
            "      Successfully uninstalled nvidia-cuda-cupti-cu12-12.5.82\n",
            "  Attempting uninstall: nvidia-cublas-cu12\n",
            "    Found existing installation: nvidia-cublas-cu12 12.5.3.2\n",
            "    Uninstalling nvidia-cublas-cu12-12.5.3.2:\n",
            "      Successfully uninstalled nvidia-cublas-cu12-12.5.3.2\n",
            "  Attempting uninstall: nvidia-cusparse-cu12\n",
            "    Found existing installation: nvidia-cusparse-cu12 12.5.1.3\n",
            "    Uninstalling nvidia-cusparse-cu12-12.5.1.3:\n",
            "      Successfully uninstalled nvidia-cusparse-cu12-12.5.1.3\n",
            "  Attempting uninstall: nvidia-cudnn-cu12\n",
            "    Found existing installation: nvidia-cudnn-cu12 9.3.0.75\n",
            "    Uninstalling nvidia-cudnn-cu12-9.3.0.75:\n",
            "      Successfully uninstalled nvidia-cudnn-cu12-9.3.0.75\n",
            "  Attempting uninstall: nvidia-cusolver-cu12\n",
            "    Found existing installation: nvidia-cusolver-cu12 11.6.3.83\n",
            "    Uninstalling nvidia-cusolver-cu12-11.6.3.83:\n",
            "      Successfully uninstalled nvidia-cusolver-cu12-11.6.3.83\n",
            "Successfully installed appdirs-1.4.4 autoray-0.7.0 diastatic-malt-2.15.2 fire-0.7.0 medmnist-3.0.2 nvidia-cublas-cu12-12.4.5.8 nvidia-cuda-cupti-cu12-12.4.127 nvidia-cuda-nvrtc-cu12-12.4.127 nvidia-cuda-runtime-cu12-12.4.127 nvidia-cudnn-cu12-9.1.0.70 nvidia-cufft-cu12-11.2.1.3 nvidia-curand-cu12-10.3.5.147 nvidia-cusolver-cu12-11.6.1.9 nvidia-cusparse-cu12-12.3.1.170 nvidia-nvjitlink-cu12-12.4.127 pennylane-0.40.0 pennylane-lightning-0.40.0 rustworkx-0.16.0 scipy-openblas32-0.3.29.0.0 tomlkit-0.13.2\n"
          ]
        }
      ],
      "source": [
        "!pip install torch torchvision pennylane medmnist"
      ]
    },
    {
      "cell_type": "markdown",
      "metadata": {
        "id": "H7TviVcsmlRW"
      },
      "source": [
        "# Import Libraries"
      ]
    },
    {
      "cell_type": "code",
      "execution_count": null,
      "metadata": {
        "id": "09Qxm00xaivz"
      },
      "outputs": [],
      "source": [
        "# Quantum Computing\n",
        "import pennylane as qml\n",
        "from pennylane import numpy as np\n",
        "\n",
        "# Data Handling\n",
        "import medmnist\n",
        "from medmnist import INFO, Evaluator\n",
        "import torch.utils.data as data\n",
        "from torchvision import datasets, transforms\n",
        "\n",
        "# PyTorch\n",
        "import torch\n",
        "import torch.nn as nn\n",
        "import torch.optim as optim\n",
        "import torch.nn.functional as F\n",
        "from medmnist import OrganAMNIST as DATASETS\n",
        "import torchvision.transforms as transforms\n",
        "from torch.utils.data import DataLoader\n",
        "from torchvision.datasets import ImageFolder\n",
        "\n",
        "# Utilities\n",
        "from tqdm import tqdm\n",
        "import matplotlib.pyplot as plt\n",
        "import os"
      ]
    },
    {
      "cell_type": "code",
      "execution_count": null,
      "metadata": {
        "colab": {
          "base_uri": "https://localhost:8080/",
          "height": 619
        },
        "id": "YnbdxcjVGD6S",
        "outputId": "0715d26d-20ba-43a7-fc86-b197eb6f4231"
      },
      "outputs": [
        {
          "output_type": "stream",
          "name": "stdout",
          "text": [
            "Downloading https://zenodo.org/records/10519652/files/organamnist.npz?download=1 to /root/.medmnist/organamnist.npz\n"
          ]
        },
        {
          "output_type": "stream",
          "name": "stderr",
          "text": [
            "100%|██████████| 38.2M/38.2M [00:02<00:00, 16.5MB/s]\n"
          ]
        },
        {
          "output_type": "stream",
          "name": "stdout",
          "text": [
            "Using downloaded and verified file: /root/.medmnist/organamnist.npz\n",
            "Using downloaded and verified file: /root/.medmnist/organamnist.npz\n",
            "Full dataset size: 58830\n"
          ]
        },
        {
          "output_type": "stream",
          "name": "stderr",
          "text": [
            "<ipython-input-3-49ee14a676fe>:16: DeprecationWarning: Conversion of an array with ndim > 0 to a scalar is deprecated, and will error in future. Ensure you extract a single element from your array before performing this operation. (Deprecated NumPy 1.25.)\n",
            "  all_labels = [int(label) for _, label in full_dataset]\n"
          ]
        },
        {
          "output_type": "display_data",
          "data": {
            "text/plain": [
              "<Figure size 640x480 with 1 Axes>"
            ],
            "image/png": "[encoded data removed]"
          },
          "metadata": {}
        }
      ],
      "source": [
        "from torch.utils.data import DataLoader, ConcatDataset\n",
        "from collections import Counter\n",
        "\n",
        "# Load each split of the  dataset\n",
        "train_dataset = DATASETS(split='train', download=True, transform=transforms.ToTensor())\n",
        "val_dataset = DATASETS(split='val', download=True, transform=transforms.ToTensor())\n",
        "test_dataset = DATASETS(split='test', download=True, transform=transforms.ToTensor())\n",
        "\n",
        "# Combine the datasets\n",
        "full_dataset = ConcatDataset([train_dataset, val_dataset, test_dataset])\n",
        "\n",
        "# Print the number of samples in the full dataset\n",
        "print(f\"Full dataset size: {len(full_dataset)}\")\n",
        "\n",
        "# Get all labels from the dataset\n",
        "all_labels = [int(label) for _, label in full_dataset]\n",
        "\n",
        "# Count the number of samples per class\n",
        "class_counts = Counter(all_labels)\n",
        "\n",
        "# Sort counts by class (optional)\n",
        "sorted_class_counts = dict(sorted(class_counts.items()))\n",
        "\n",
        "# Extract classes and counts\n",
        "classes = list(sorted_class_counts.keys())\n",
        "counts = list(sorted_class_counts.values())\n",
        "\n",
        "# Plot the histogram\n",
        "plt.bar(classes, counts)\n",
        "plt.xlabel('Class Labels')\n",
        "plt.ylabel('Number of Samples')\n",
        "plt.title('Class Distribution in  Dataset')\n",
        "plt.xticks(classes)\n",
        "plt.show()"
      ]
    },
    {
      "cell_type": "code",
      "execution_count": null,
      "metadata": {
        "id": "jfW6CYlZakjU"
      },
      "outputs": [],
      "source": [
        "download = True\n",
        "NUM_EPOCHS = 10\n",
        "BATCH_SIZE = 64\n",
        "lr = 0.001\n",
        "\n",
        "device = torch.device(\"cuda\" if torch.cuda.is_available() else \"cpu\")"
      ]
    },
    {
      "cell_type": "code",
      "execution_count": null,
      "metadata": {
        "id": "VLMOoV_ycUIt"
      },
      "outputs": [],
      "source": [
        "# Define the transformations\n",
        "transform = transforms.Compose([\n",
        "    transforms.ToTensor(),\n",
        "    transforms.Normalize(mean=[0.8], std=[0.8])\n",
        "])"
      ]
    },
    {
      "cell_type": "markdown",
      "metadata": {
        "id": "wcVBFNjomts9"
      },
      "source": [
        "# Load Dataset"
      ]
    },
    {
      "cell_type": "code",
      "execution_count": null,
      "metadata": {
        "colab": {
          "base_uri": "https://localhost:8080/"
        },
        "id": "EntyKg7Z-ZcK",
        "outputId": "ca2be1dc-ea5b-40aa-e9fe-a6b30dccfb04"
      },
      "outputs": [
        {
          "output_type": "stream",
          "name": "stdout",
          "text": [
            "Using downloaded and verified file: /root/.medmnist/organamnist.npz\n",
            "Using downloaded and verified file: /root/.medmnist/organamnist.npz\n",
            "Using downloaded and verified file: /root/.medmnist/organamnist.npz\n",
            "Class sizes: {0: 3313, 1: 2407}\n",
            "Minimum class size: 2407\n",
            "Number of training samples: 3851\n",
            "Number of testing samples: 963\n"
          ]
        }
      ],
      "source": [
        "from torch.utils.data import Subset, DataLoader, random_split, ConcatDataset\n",
        "import torchvision.transforms as transforms\n",
        "import torch\n",
        "import random\n",
        "\n",
        "# Set batch size\n",
        "BATCH_SIZE = 64\n",
        "\n",
        "# Step 1: Download the Full TissueMNIST Dataset\n",
        "train_dataset = DATASETS(split='train', download=True, transform=transform)\n",
        "val_dataset = DATASETS(split='val', download=True, transform=transform)\n",
        "test_dataset = DATASETS(split='test', download=True, transform=transform)\n",
        "\n",
        "# Combine the datasets\n",
        "full_dataset = ConcatDataset([train_dataset, val_dataset, test_dataset])\n",
        "\n",
        "# Specify the two classes you want to keep\n",
        "target_classes = [0, 1]  # Only two classes\n",
        "\n",
        "# Step 2: Filter Dataset for the Two Classes\n",
        "def filter_classes(dataset, target_classes):\n",
        "    indices = [i for i, (_, label) in enumerate(dataset) if label in target_classes]\n",
        "    return Subset(dataset, indices)\n",
        "\n",
        "# Filter the full dataset to keep only the two target classes\n",
        "filtered_dataset = filter_classes(full_dataset, target_classes)\n",
        "\n",
        "# Custom Dataset wrapper to remap labels to 0 and 1\n",
        "class RelabelDataset(torch.utils.data.Dataset):\n",
        "    def __init__(self, subset, target_classes):\n",
        "        self.subset = subset\n",
        "        self.target_classes = target_classes\n",
        "\n",
        "    def __len__(self):\n",
        "        return len(self.subset)\n",
        "\n",
        "    def __getitem__(self, idx):\n",
        "        img, label = self.subset[idx]\n",
        "        # Relabel class 4 → 0 and class 5 → 1\n",
        "        new_label = torch.tensor(self.target_classes.index(label.item()))\n",
        "        return img, new_label\n",
        "\n",
        "# Apply the RelabelDataset wrapper\n",
        "relabeled_dataset = RelabelDataset(filtered_dataset, target_classes)\n",
        "\n",
        "# Step 3: Find the minimum class size (to balance the dataset)\n",
        "def get_min_class_size(dataset):\n",
        "    class_counts = {0: 0, 1: 0}  # Since we have only two classes (0 and 1)\n",
        "\n",
        "    for _, label in dataset:\n",
        "        class_counts[label.item()] += 1  # Count occurrences of each class\n",
        "\n",
        "    # Get the minimum class size\n",
        "    min_class_size = min(class_counts.values())\n",
        "    print(f\"Class sizes: {class_counts}\")\n",
        "    print(f\"Minimum class size: {min_class_size}\")\n",
        "\n",
        "    return min_class_size\n",
        "\n",
        "# Find the minimum class size\n",
        "min_class_size = get_min_class_size(relabeled_dataset)\n",
        "\n",
        "# Step 4: Create a balanced dataset with equal samples from each class\n",
        "def get_balanced_subset(dataset, min_class_size):\n",
        "    class_indices = {0: [], 1: []}  # Only two classes\n",
        "\n",
        "    # Group indices by class\n",
        "    for idx, (_, label) in enumerate(dataset):\n",
        "        class_indices[label.item()].append(idx)\n",
        "\n",
        "    # Randomly sample `min_class_size` instances from each class\n",
        "    selected_indices = []\n",
        "    for cls in [0, 1]:  # Only two classes\n",
        "        selected_indices.extend(random.sample(class_indices[cls], min_class_size))\n",
        "\n",
        "    return Subset(dataset, selected_indices)\n",
        "\n",
        "# Create the balanced subset\n",
        "balanced_subset = get_balanced_subset(relabeled_dataset, min_class_size)\n",
        "\n",
        "# Step 5: Split the Balanced Dataset into Train and Test Sets\n",
        "train_size = int(0.8 * len(balanced_subset))\n",
        "test_size = len(balanced_subset) - train_size\n",
        "\n",
        "# Split the balanced subset\n",
        "train_dataset, test_dataset = random_split(balanced_subset, [train_size, test_size])\n",
        "\n",
        "# Create DataLoaders for the Balanced Dataset\n",
        "train_loader = DataLoader(train_dataset, batch_size=BATCH_SIZE, shuffle=True)\n",
        "test_loader = DataLoader(test_dataset, batch_size=BATCH_SIZE, shuffle=False)\n",
        "\n",
        "# Display Dataset Information\n",
        "print(f\"Number of training samples: {len(train_dataset)}\")\n",
        "print(f\"Number of testing samples: {len(test_dataset)}\")\n"
      ]
    },
    {
      "cell_type": "code",
      "execution_count": null,
      "metadata": {
        "colab": {
          "base_uri": "https://localhost:8080/"
        },
        "id": "2NfKzJ7bXhBQ",
        "outputId": "746a1fd7-f10a-4f83-a1d6-727162361516"
      },
      "outputs": [
        {
          "output_type": "stream",
          "name": "stdout",
          "text": [
            "Number of classes: 2\n"
          ]
        }
      ],
      "source": [
        "n_classes = len(target_classes)\n",
        "print(f\"Number of classes: {n_classes}\")"
      ]
    },
    {
      "cell_type": "markdown",
      "metadata": {
        "id": "8oFKIf7IkD4D"
      },
      "source": [
        "# For Quantum Neural Network"
      ]
    },
    {
      "cell_type": "markdown",
      "source": [
        "**Outer circuit function:**"
      ],
      "metadata": {
        "id": "kAepd9eVrk4I"
      }
    },
    {
      "cell_type": "code",
      "source": [
        "# # Define the quality embedding network (classical network to estimate noise level)\n",
        "# class QualityEmbeddingNetwork(nn.Module):\n",
        "#     def __init__(self, input_size, embedding_size):\n",
        "#         super(QualityEmbeddingNetwork, self).__init__()\n",
        "#         self.fc1 = nn.Linear(input_size, 128)\n",
        "#         self.fc2 = nn.Linear(128, embedding_size)\n",
        "#         self.fc3 = nn.Linear(embedding_size, 1)  # Outputs a noise quality score\n",
        "\n",
        "#     def forward(self, x):\n",
        "#         x = torch.relu(self.fc1(x))\n",
        "#         x = torch.relu(self.fc2(x))\n",
        "#         quality = torch.sigmoid(self.fc3(x))  # Noise level between 0 and 1\n",
        "#         return quality"
      ],
      "metadata": {
        "id": "Si0FwRcPUkqs"
      },
      "execution_count": null,
      "outputs": []
    },
    {
      "cell_type": "markdown",
      "metadata": {
        "id": "twiZAaWirOlO"
      },
      "source": [
        "**Build Quantum Circuit**"
      ]
    },
    {
      "cell_type": "code",
      "source": [
        "n_qubits = 8\n",
        "n_layers = 5\n",
        "dev = qml.device('default.qubit', wires=n_qubits)\n",
        "\n",
        "@qml.qnode(dev)\n",
        "def quantum_circuit(inputs, weights):\n",
        "    # Embed classical data into quantum state (with padding if needed)\n",
        "    qml.templates.AmplitudeEmbedding(inputs, wires=range(n_qubits), pad_with=0.0, normalize=True)\n",
        "\n",
        "    # Initial Encoder\n",
        "    for i in range(n_qubits):\n",
        "        qml.RX(weights[0, i, 0], wires=i)\n",
        "        qml.RZ(weights[0, i, 1], wires=i)\n",
        "\n",
        "    #Additional Rotation Layer\n",
        "    for i in range(n_qubits):\n",
        "        qml.RZ(weights[1, i, 0], wires=i)\n",
        "\n",
        "    # Entangling layers\n",
        "    for i in range(n_qubits - 1):\n",
        "        qml.CNOT(wires=[i, (i + 2) % n_qubits])\n",
        "\n",
        "    # Hierarchical Quantum Convolutional Layer (HQCL)\n",
        "    for i in range(n_layers):\n",
        "        #Entangling Quantum Convolutional Layer\n",
        "        for j in range(n_qubits):\n",
        "            qml.RY(weights[i, j, 0], wires=j)\n",
        "            qml.RZ(weights[i, j, 1], wires=j)\n",
        "        qml.CNOT(wires = [i % n_qubits, (i + 1) % n_qubits])\n",
        "\n",
        "        #Quantum Convolutional layers\n",
        "        for j in range(n_qubits):\n",
        "            qml.RX(weights[i, j, 0], wires=j)\n",
        "            qml.RY(weights[i, j, 1], wires=j)\n",
        "            qml.CNOT(wires=[j, (j + 1) % n_qubits])  # Circular entanglement\n",
        "\n",
        "    #Custom Entangling with Quantum Convolutional Layer\n",
        "    for j in range(n_qubits):\n",
        "        qml.RX(weights[i, j, 0], wires=j)\n",
        "        qml.CNOT(wires=[j, (j + 1) % n_qubits])\n",
        "        qml.RZ(weights[i, j, 1], wires=j)\n",
        "\n",
        "    # # Adaptive Quantum Pooling\n",
        "    # phi_values = [weights[2, i, 0] for i in range(n_qubits // 2)]\n",
        "    # for i in range(n_qubits // 2):\n",
        "    #     phi = torch.tensor([0.2*i], requires_grad=True)*quality\n",
        "    #     qml.CNOT(wires=[i, n_qubits - 1 - i])\n",
        "    #     qml.RY(phi, wires=n_qubits - 1 - i)\n",
        "    #     qml.RY(phi_values[i], wires=n_qubits - 1 - i)\n",
        "    #     qml.CNOT(wires=[i, n_qubits - 1 - i])\n",
        "\n",
        "    qml.RX(np.pi, wires=0)\n",
        "    qml.RY(np.pi, wires= 1)\n",
        "    qml.RZ(np.pi, wires=2)\n",
        "    qml.CNOT(wires=[0, 1])\n",
        "\n",
        "\n",
        "    # Measure PauliZ and PauliX for more varied information\n",
        "    return [qml.expval(qml.PauliZ(i)) for i in range(n_qubits)] + [qml.expval(qml.PauliX(i)) for i in range(n_qubits)]\n",
        "\n",
        "weight_shapes = {\"weights\": (n_layers, n_qubits, 2)}  # Add shape for 'quality'\n",
        "# Define the quantum layer in PyTorch using TorchLayer from Pennylane\n",
        "qlayer = qml.qnn.TorchLayer(quantum_circuit, weight_shapes)\n"
      ],
      "metadata": {
        "id": "qxs2hbrRrsr_"
      },
      "execution_count": null,
      "outputs": []
    },
    {
      "cell_type": "code",
      "source": [
        "# print(qml.draw(quantum_circuit)(torch.zeros(n_qubits), torch.zeros((n_layers, n_qubits, 3)), torch.zeros(1)))"
      ],
      "metadata": {
        "id": "nyfWAPlLWVzu"
      },
      "execution_count": null,
      "outputs": []
    },
    {
      "cell_type": "code",
      "source": [
        "# print(qml.draw(quantum_circuit)(torch.zeros(n_qubits), torch.zeros((n_layers, n_qubits, 3))))\n"
      ],
      "metadata": {
        "id": "Wh0UBGinkvB9"
      },
      "execution_count": null,
      "outputs": []
    },
    {
      "cell_type": "code",
      "source": [
        "import torch\n",
        "import torch.nn as nn\n",
        "import torch.nn.functional as F\n",
        "import torch.optim as optim\n",
        "from torch.distributions import Normal\n",
        "from tqdm import tqdm\n",
        "\n",
        "\n",
        "class Encoder(nn.Module):\n",
        "    def __init__(self, image_dim, latent_dim):\n",
        "        super(Encoder, self).__init__()\n",
        "        self.encoder = nn.Sequential(\n",
        "            nn.Conv2d(1, 64, kernel_size=3, stride=1, padding=1),\n",
        "            nn.BatchNorm2d(64),\n",
        "            nn.ReLU(),\n",
        "            nn.MaxPool2d(2),\n",
        "            nn.Conv2d(64, 128, kernel_size=3, stride=1, padding=1),\n",
        "            nn.BatchNorm2d(128),\n",
        "            nn.ReLU(),\n",
        "            nn.MaxPool2d(2),\n",
        "            nn.Flatten(),\n",
        "            nn.Linear(128 * 7 * 7, latent_dim),\n",
        "            nn.ReLU()\n",
        "        )\n",
        "\n",
        "    def forward(self, x):\n",
        "        return self.encoder(x)\n",
        "\n"
      ],
      "metadata": {
        "id": "fqyhdPQeYERk"
      },
      "execution_count": null,
      "outputs": []
    },
    {
      "cell_type": "code",
      "source": [
        "class HybridQNN(nn.Module):\n",
        "  def __init__(self, n_qubits, n_layers, n_classes, input_size):\n",
        "    super(HybridQNN, self).__init__()\n",
        "    self.encoder = Encoder(input_size, 64)\n",
        "    self.quantum_layer = qml.qnn.TorchLayer(quantum_circuit, weight_shapes)\n",
        "    self.fc = nn.Linear(2*n_qubits, n_classes)\n",
        "    self.preprocess = nn.Linear(64, 2*n_qubits)\n",
        "\n",
        "  def forward(self, x):\n",
        "    x = self.encoder(x)\n",
        "    x = x.view(x.size(0), -1)\n",
        "    x = self.preprocess(x)\n",
        "    x = self.quantum_layer(x)\n",
        "    x = self.fc(x)\n",
        "    return x\n",
        "\n",
        "# class HybridQNN(nn.Module):\n",
        "#     def __init__(self, n_qubits, n_layers, n_classes, input_size):\n",
        "#         super(HybridQNN, self).__init__()\n",
        "#         self.encoder = Encoder(input_size, 64)\n",
        "#         self.quality_embedding = QualityEmbeddingNetwork(64, embedding_size=16)  # Changed input_size to 64\n",
        "#         self.quantum_layer = qml.qnn.TorchLayer(quantum_circuit, weight_shapes)\n",
        "#         self.fc = nn.Linear(2 * n_qubits, n_classes)\n",
        "#         self.preprocess = nn.Linear(64 + 1, 2 * n_qubits) # Changed to match concatenated dimension\n",
        "\n",
        "#     def forward(self, x):\n",
        "#         x = self.encoder(x)\n",
        "#         # Reshape the output of the encoder to match the input of the quality embedding network\n",
        "#         x_for_quality = x.view(x.size(0), -1)  # Reshape to (batch_size, flattened_size)\n",
        "#         quality = self.quality_embedding(x_for_quality)\n",
        "#         # quality = quality.view(quality.size(0), -1)\n",
        "#         # quality = quality.unsqueeze(1).unsqueeze(1).repeat(1, x.shape[2], x.shape[3], 1)\n",
        "#         x = x.view(x.size(0), -1)\n",
        "#         # x = torch.cat([x, quality], dim=1)  # Check if dim=1 is correct for concatenation\n",
        "#         x = torch.cat([x, quality], dim=1) # Concatenate along feature dimension\n",
        "#         x = self.preprocess(x)\n",
        "#         x = self.quantum_layer(x)\n",
        "#         x = self.fc(x)\n",
        "#         x = torch.sigmoid(x)\n",
        "#         return x"
      ],
      "metadata": {
        "id": "Y8FgB3ltWmaw"
      },
      "execution_count": null,
      "outputs": []
    },
    {
      "cell_type": "code",
      "source": [
        "input_size = 28\n",
        "model = HybridQNN(n_qubits, n_layers, n_classes, input_size).to(device)"
      ],
      "metadata": {
        "id": "17WjsnkLXvh3"
      },
      "execution_count": null,
      "outputs": []
    },
    {
      "cell_type": "code",
      "source": [
        "criterion = nn.CrossEntropyLoss()\n",
        "optimizer = optim.AdamW(model.parameters(), lr=lr)"
      ],
      "metadata": {
        "id": "vsWypEJ1YBPA"
      },
      "execution_count": null,
      "outputs": []
    },
    {
      "cell_type": "code",
      "source": [
        "def get_noisy_labels(targets, noise_rate=0.3):\n",
        "    noise_mask = torch.rand(targets.size()) < noise_rate\n",
        "    noisy_labels = targets.clone()\n",
        "    for i in range(len(noisy_labels)):\n",
        "        if noise_mask[i]:\n",
        "            possible_classes = list(set(range(n_classes)) - {targets[i].item()})\n",
        "            noisy_labels[i] = torch.tensor(np.random.choice(possible_classes))\n",
        "    return noisy_labels"
      ],
      "metadata": {
        "id": "NVPbdVtEYG2A"
      },
      "execution_count": null,
      "outputs": []
    },
    {
      "cell_type": "code",
      "source": [
        "# Train model\n",
        "NUM_EPOCHS = 10\n",
        "for epoch in range(NUM_EPOCHS):\n",
        "    running_loss = 0.0\n",
        "    correct_predictions = 0\n",
        "    total_samples = 0\n",
        "\n",
        "    model.train()\n",
        "    for inputs, targets in tqdm(train_loader):\n",
        "        optimizer.zero_grad()\n",
        "\n",
        "        # Add dynamic noise during training\n",
        "        noisy_labels = get_noisy_labels(targets)\n",
        "\n",
        "        # Forward pass, including noisy labels\n",
        "        outputs = model(inputs)\n",
        "\n",
        "        # Compute loss\n",
        "        loss = criterion(outputs, noisy_labels)\n",
        "\n",
        "        # Backward pass and optimization\n",
        "        loss.backward()\n",
        "        optimizer.step()\n",
        "\n",
        "        running_loss += loss.item()\n",
        "        _, predicted = torch.max(outputs.data, 1)\n",
        "        correct_predictions += (predicted == targets).sum().item()\n",
        "        total_samples += targets.size(0)\n",
        "\n",
        "    # Calculate accuracy\n",
        "    avg_loss = running_loss / len(train_loader)\n",
        "    epoch_accuracy = correct_predictions / total_samples\n",
        "    print(f\"Epoch {epoch+1}/{NUM_EPOCHS}, Loss: {avg_loss:.4f}, Accuracy: {epoch_accuracy:.4f}\")"
      ],
      "metadata": {
        "colab": {
          "base_uri": "https://localhost:8080/"
        },
        "id": "AqYWCMn9YRar",
        "outputId": "94ae52c1-d96b-4d90-8a72-5a71eacb1a76"
      },
      "execution_count": null,
      "outputs": [
        {
          "output_type": "stream",
          "name": "stderr",
          "text": [
            "100%|██████████| 61/61 [00:44<00:00,  1.38it/s]\n"
          ]
        },
        {
          "output_type": "stream",
          "name": "stdout",
          "text": [
            "Epoch 1/10, Loss: 0.6602, Accuracy: 0.8857\n"
          ]
        },
        {
          "output_type": "stream",
          "name": "stderr",
          "text": [
            "100%|██████████| 61/61 [00:46<00:00,  1.32it/s]\n"
          ]
        },
        {
          "output_type": "stream",
          "name": "stdout",
          "text": [
            "Epoch 2/10, Loss: 0.6312, Accuracy: 0.9522\n"
          ]
        },
        {
          "output_type": "stream",
          "name": "stderr",
          "text": [
            "100%|██████████| 61/61 [00:43<00:00,  1.40it/s]\n"
          ]
        },
        {
          "output_type": "stream",
          "name": "stdout",
          "text": [
            "Epoch 3/10, Loss: 0.6372, Accuracy: 0.9431\n"
          ]
        },
        {
          "output_type": "stream",
          "name": "stderr",
          "text": [
            "100%|██████████| 61/61 [00:44<00:00,  1.39it/s]\n"
          ]
        },
        {
          "output_type": "stream",
          "name": "stdout",
          "text": [
            "Epoch 4/10, Loss: 0.6228, Accuracy: 0.9694\n"
          ]
        },
        {
          "output_type": "stream",
          "name": "stderr",
          "text": [
            "100%|██████████| 61/61 [00:43<00:00,  1.41it/s]\n"
          ]
        },
        {
          "output_type": "stream",
          "name": "stdout",
          "text": [
            "Epoch 5/10, Loss: 0.6243, Accuracy: 0.9759\n"
          ]
        },
        {
          "output_type": "stream",
          "name": "stderr",
          "text": [
            "100%|██████████| 61/61 [00:43<00:00,  1.41it/s]\n"
          ]
        },
        {
          "output_type": "stream",
          "name": "stdout",
          "text": [
            "Epoch 6/10, Loss: 0.6259, Accuracy: 0.9662\n"
          ]
        },
        {
          "output_type": "stream",
          "name": "stderr",
          "text": [
            "100%|██████████| 61/61 [00:43<00:00,  1.39it/s]\n"
          ]
        },
        {
          "output_type": "stream",
          "name": "stdout",
          "text": [
            "Epoch 7/10, Loss: 0.6296, Accuracy: 0.9769\n"
          ]
        },
        {
          "output_type": "stream",
          "name": "stderr",
          "text": [
            "100%|██████████| 61/61 [00:45<00:00,  1.33it/s]\n"
          ]
        },
        {
          "output_type": "stream",
          "name": "stdout",
          "text": [
            "Epoch 8/10, Loss: 0.6172, Accuracy: 0.9733\n"
          ]
        },
        {
          "output_type": "stream",
          "name": "stderr",
          "text": [
            "100%|██████████| 61/61 [00:43<00:00,  1.39it/s]\n"
          ]
        },
        {
          "output_type": "stream",
          "name": "stdout",
          "text": [
            "Epoch 9/10, Loss: 0.6175, Accuracy: 0.9730\n"
          ]
        },
        {
          "output_type": "stream",
          "name": "stderr",
          "text": [
            "100%|██████████| 61/61 [00:43<00:00,  1.41it/s]"
          ]
        },
        {
          "output_type": "stream",
          "name": "stdout",
          "text": [
            "Epoch 10/10, Loss: 0.6142, Accuracy: 0.9764\n"
          ]
        },
        {
          "output_type": "stream",
          "name": "stderr",
          "text": [
            "\n"
          ]
        }
      ]
    },
    {
      "cell_type": "code",
      "source": [
        "model.eval()\n",
        "running_loss = 0.0\n",
        "correct = 0\n",
        "total = 0\n",
        "with torch.no_grad():\n",
        "    for images, labels in tqdm(test_loader):\n",
        "    # Move inputs and targets to the device (CPU or GPU)\n",
        "        images, labels = images.to(device), labels.to(device)\n",
        "\n",
        "        # Add dynamic noise during testing (if applicable)\n",
        "        # noisy_labels = get_noisy_labels(labels)\n",
        "\n",
        "        outputs = model(images)\n",
        "        loss = criterion(outputs, labels)\n",
        "        running_loss += loss.item()\n",
        "        _, predicted = torch.max(outputs.data, 1)\n",
        "        total += labels.size(0)\n",
        "        correct += (predicted == labels).sum().item()\n",
        "\n",
        "\n",
        "print(f'Test Loss: {running_loss / len(test_loader)}')\n",
        "print(f'Test Accuracy: {100 * correct / total}%')"
      ],
      "metadata": {
        "id": "B2gh5I3Kq3V_",
        "colab": {
          "base_uri": "https://localhost:8080/"
        },
        "outputId": "c0c9d485-21ea-4c52-d3d3-1e78d9627ac5"
      },
      "execution_count": null,
      "outputs": [
        {
          "output_type": "stream",
          "name": "stderr",
          "text": [
            "100%|██████████| 16/16 [00:04<00:00,  3.53it/s]"
          ]
        },
        {
          "output_type": "stream",
          "name": "stdout",
          "text": [
            "Test Loss: 0.4005025029182434\n",
            "Test Accuracy: 96.78089304257529%\n"
          ]
        },
        {
          "output_type": "stream",
          "name": "stderr",
          "text": [
            "\n"
          ]
        }
      ]
    },
    {
      "cell_type": "markdown",
      "metadata": {
        "id": "ZiNv5KUYv2US"
      },
      "source": [
        "**Encoder:**"
      ]
    },
    {
      "cell_type": "markdown",
      "metadata": {
        "id": "CKY1yUHMwWA2"
      },
      "source": [
        "**Model:**"
      ]
    },
    {
      "cell_type": "code",
      "source": [
        "# Test model\n",
        "model.eval()\n",
        "running_loss = 0.0\n",
        "correct = 0\n",
        "total = 0\n",
        "all_labels = []\n",
        "all_predictions = []\n",
        "\n",
        "with torch.no_grad():\n",
        "    for images, labels in tqdm(test_loader):\n",
        "        images, labels = images.to(device), labels.to(device)\n",
        "\n",
        "        # Forward pass with clean labels\n",
        "        outputs = model(images)\n",
        "\n",
        "        # Compute loss using the clean labels\n",
        "        loss = criterion(outputs, labels)\n",
        "        running_loss += loss.item()\n",
        "\n",
        "        # Prediction of the test dataset\n",
        "        _, predicted = torch.max(outputs.data, 1)\n",
        "        total += labels.size(0)\n",
        "        correct += (predicted == labels).sum().item()\n",
        "\n",
        "        all_labels.extend(labels.cpu().numpy())\n",
        "        all_predictions.extend(predicted.cpu().numpy())\n",
        "\n",
        "# Print average test loss and accuracy\n",
        "print(f'Test Loss: {running_loss / len(test_loader):.4f}')\n",
        "print(f'Test Accuracy: {100 * correct / total:.2f}%')\n",
        "\n",
        "# Optional: Analyze predictions\n",
        "from sklearn.metrics import classification_report\n",
        "print(classification_report(all_labels, all_predictions))\n"
      ],
      "metadata": {
        "id": "CLJKSAkHRjtM",
        "colab": {
          "base_uri": "https://localhost:8080/"
        },
        "outputId": "906953d6-698d-433f-9c11-cc31674bcb42"
      },
      "execution_count": null,
      "outputs": [
        {
          "output_type": "stream",
          "name": "stderr",
          "text": [
            "100%|██████████| 16/16 [00:04<00:00,  3.44it/s]"
          ]
        },
        {
          "output_type": "stream",
          "name": "stdout",
          "text": [
            "Test Loss: 0.4005\n",
            "Test Accuracy: 96.78%\n",
            "              precision    recall  f1-score   support\n",
            "\n",
            "           0       1.00      0.93      0.97       461\n",
            "           1       0.94      1.00      0.97       502\n",
            "\n",
            "    accuracy                           0.97       963\n",
            "   macro avg       0.97      0.97      0.97       963\n",
            "weighted avg       0.97      0.97      0.97       963\n",
            "\n"
          ]
        },
        {
          "output_type": "stream",
          "name": "stderr",
          "text": [
            "\n"
          ]
        }
      ]
    },
    {
      "cell_type": "code",
      "source": [
        "import matplotlib.pyplot as plt\n",
        "import seaborn as sns\n",
        "from sklearn.metrics import confusion_matrix\n",
        "\n",
        "# Assuming you have 'all_labels' and 'all_predictions' from your previous code\n",
        "# These lists should contain the true labels and predicted labels for your test data\n",
        "\n",
        "# Calculate the confusion matrix\n",
        "conf_matrix = confusion_matrix(all_labels, all_predictions)\n",
        "\n",
        "# Plot the confusion matrix using Seaborn\n",
        "plt.figure(figsize=(6, 4))\n",
        "sns.heatmap(conf_matrix, annot=True, fmt=\"d\", cmap=\"Blues\", xticklabels=target_classes, yticklabels=target_classes)\n",
        "plt.xlabel(\"Predicted Labels\")\n",
        "plt.ylabel(\"True Labels\")\n",
        "plt.title(\"Confusion Matrix for OrganMNIST (Binary)\")\n",
        "plt.show()"
      ],
      "metadata": {
        "colab": {
          "base_uri": "https://localhost:8080/",
          "height": 410
        },
        "id": "cZ3SqEPRWEFt",
        "outputId": "d7f2448b-da3c-4b4e-fef7-3540f3acefcd"
      },
      "execution_count": null,
      "outputs": [
        {
          "output_type": "display_data",
          "data": {
            "text/plain": [
              "<Figure size 600x400 with 2 Axes>"
            ],
            "image/png": "[encoded data removed]"
          },
          "metadata": {}
        }
      ]
    },
    {
      "cell_type": "code",
      "execution_count": null,
      "metadata": {
        "id": "2AH8PW3wwZNg"
      },
      "outputs": [],
      "source": [
        "\n",
        "# class HQCNN(nn.Module):\n",
        "#     def __init__(self, image_dim, latent_dim, n_classes=n_classes, num_quantum_layers=8):\n",
        "#         super(HQCNN, self).__init__()\n",
        "#         self.encoder = Encoder(image_dim, latent_dim)\n",
        "#         self.quantum_layers = nn.ModuleList([qlayer for _ in range(num_quantum_layers)])\n",
        "#         self.fc1  = nn.Linear(2*n_qubits, 128)\n",
        "#         self.fc2 = nn.Linear(128, 64)\n",
        "#         self.fc_out = nn.Linear(64, n_classes)\n",
        "#         self.dropout = nn.Dropout(0.5)\n",
        "\n",
        "#     def forward(self, x):\n",
        "#         x = self.encoder(x)\n",
        "#         x = x.view(x.size(0), -1)\n",
        "#         for quantum_layer in self.quantum_layers:\n",
        "#             x = quantum_layer(x)\n",
        "\n",
        "#         x = F.relu(self.fc1(x))\n",
        "#         x = self.dropout(x)\n",
        "#         x = F.relu(self.fc2(x))\n",
        "#         x = self.dropout(x)\n",
        "#         x = self.fc_out(x)\n",
        "#         return x\n",
        "\n"
      ]
    },
    {
      "cell_type": "markdown",
      "metadata": {
        "id": "lgGeT-BGxDlG"
      },
      "source": [
        "**Model Instantiate:**"
      ]
    },
    {
      "cell_type": "code",
      "execution_count": null,
      "metadata": {
        "id": "q3bQlX3Rw_Vg"
      },
      "outputs": [],
      "source": [
        "# # Instantiate model\n",
        "# image_dim = (1, 28, 28)\n",
        "# latent_dim = 64\n",
        "# n_classes = n_classes\n",
        "# model = HQCNN(image_dim, latent_dim)\n"
      ]
    },
    {
      "cell_type": "markdown",
      "metadata": {
        "id": "ShuqiKZQxMc4"
      },
      "source": [
        "**Compile Model:**"
      ]
    },
    {
      "cell_type": "markdown",
      "metadata": {
        "id": "uLO8qfNRwcaW"
      },
      "source": [
        "**Add Dynamic Noise During Training and Testing:**"
      ]
    },
    {
      "cell_type": "markdown",
      "metadata": {
        "id": "FKUVfdRqxWQi"
      },
      "source": [
        "# **Traing Loop**"
      ]
    },
    {
      "cell_type": "code",
      "source": [
        "# # Training Loop\n",
        "# for epoch in range(NUM_EPOCHS):\n",
        "#     running_loss = 0.0\n",
        "#     correct_predictions = 0\n",
        "#     total_samples = 0\n",
        "\n",
        "#     model.train()\n",
        "#     for inputs, targets in tqdm(train_loader):\n",
        "#         optimizer.zero_grad()\n",
        "\n",
        "#         # Add dynamic noise during training\n",
        "#         noisy_level = 0.5  # Adjust as needed\n",
        "#         # Get noisy labels\n",
        "#         noisy_labels = get_noisy_labels(targets, noisy_level)\n",
        "\n",
        "\n",
        "#         # Forward pass, including noisy labels\n",
        "#         outputs = model(inputs)\n",
        "#         # Reshape noisy_labels to match the output shape\n",
        "#         noisy_labels = noisy_labels.long()\n",
        "\n",
        "#         # Reshape targets to match the output shape\n",
        "#         targets = targets.long()\n",
        "\n",
        "#         # Compute loss\n",
        "#         # loss = criterion(outputs, targets)\n",
        "#         loss = criterion(outputs, noisy_labels)\n",
        "\n",
        "#         # Backward pass and optimization\n",
        "#         loss.backward()\n",
        "#         optimizer.step()\n",
        "\n",
        "#         running_loss += loss.item()\n",
        "#         _, predicted = torch.max(outputs.data, 1)\n",
        "#         correct_predictions += (predicted == targets).sum().item()\n",
        "#         total_samples += targets.size(0)\n",
        "#         # Calculate accuracy\n",
        "#     avg_loss = running_loss / len(train_loader)\n",
        "#     epoch_accuracy = correct_predictions / total_samples\n",
        "#     print(f\"Epoch {epoch+1}/{NUM_EPOCHS}, Loss: {avg_loss:.4f}, Accuracy: {epoch_accuracy:.4f}\")"
      ],
      "metadata": {
        "id": "AYhrgbtdWreB"
      },
      "execution_count": null,
      "outputs": []
    },
    {
      "cell_type": "markdown",
      "metadata": {
        "id": "PNy88w3DxfAQ"
      },
      "source": [
        "# **Test the Model:**"
      ]
    },
    {
      "cell_type": "markdown",
      "metadata": {
        "id": "o1rRrrfGiVUg"
      },
      "source": [
        "**Test without Noisy Labels:**"
      ]
    }
  ],
  "metadata": {
    "colab": {
      "provenance": [],
      "include_colab_link": true
    },
    "kernelspec": {
      "display_name": "Python 3",
      "name": "python3"
    },
    "language_info": {
      "name": "python"
    }
  },
  "nbformat": 4,
  "nbformat_minor": 0
}